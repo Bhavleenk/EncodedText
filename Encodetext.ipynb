{
  "nbformat": 4,
  "nbformat_minor": 0,
  "metadata": {
    "colab": {
      "provenance": [],
      "authorship_tag": "ABX9TyOlQnqSlxd9htabzN570IWc",
      "include_colab_link": true
    },
    "kernelspec": {
      "name": "python3",
      "display_name": "Python 3"
    },
    "language_info": {
      "name": "python"
    }
  },
  "cells": [
    {
      "cell_type": "markdown",
      "metadata": {
        "id": "view-in-github",
        "colab_type": "text"
      },
      "source": [
        "<a href=\"https://colab.research.google.com/github/Bhavleenk/EncodedText/blob/main/Encodetext.ipynb\" target=\"_parent\"><img src=\"https://colab.research.google.com/assets/colab-badge.svg\" alt=\"Open In Colab\"/></a>"
      ]
    },
    {
      "cell_type": "code",
      "execution_count": null,
      "metadata": {
        "colab": {
          "base_uri": "https://localhost:8080/"
        },
        "id": "56ewFKvFfsS2",
        "outputId": "c61018ba-5dee-4522-ce4d-87b4a4dfd8ec"
      },
      "outputs": [
        {
          "output_type": "stream",
          "name": "stdout",
          "text": [
            "Looking in indexes: https://pypi.org/simple, https://us-python.pkg.dev/colab-wheels/public/simple/\n",
            "Requirement already satisfied: text-to-image in /usr/local/lib/python3.10/dist-packages (0.0.5)\n",
            "Requirement already satisfied: Pillow in /usr/local/lib/python3.10/dist-packages (from text-to-image) (8.4.0)\n",
            "Looking in indexes: https://pypi.org/simple, https://us-python.pkg.dev/colab-wheels/public/simple/\n",
            "Requirement already satisfied: pillow in /usr/local/lib/python3.10/dist-packages (8.4.0)\n"
          ]
        }
      ],
      "source": [
        "!pip install text-to-image\n",
        "!pip install pillow"
      ]
    },
    {
      "cell_type": "code",
      "source": [
        "import text_to_image\n",
        "import PIL\n",
        "text=\"\"\"Latin was the everyday language of the Romans and the basis of\n",
        "Romance languages. Studying Latin will make it easy to learn any such\n",
        "language. As you learn this classical language, you'll connect with\n",
        "Julius Caesar and many other famous Romans. Furthermore, the study of\n",
        "Latin will develop a firm linguistic foundation, bridging the gap between\n",
        "you and some of the greatest writers, scientists, and thinkers.I\"\"\"\n",
        "encoded_image_path = text_to_image.encode(text, \"image.png\")\n"
      ],
      "metadata": {
        "id": "UxfnLqAIf4F6"
      },
      "execution_count": null,
      "outputs": []
    },
    {
      "cell_type": "code",
      "source": [
        "im = PIL.Image.open(encoded_image_path)\n",
        "im.show()"
      ],
      "metadata": {
        "colab": {
          "base_uri": "https://localhost:8080/",
          "height": 34
        },
        "id": "yBcCQka9gWDu",
        "outputId": "0c3c4010-8d7d-494c-9d13-3c0cd98fd4f6"
      },
      "execution_count": null,
      "outputs": [
        {
          "output_type": "display_data",
          "data": {
            "text/plain": [
              "<PIL.PngImagePlugin.PngImageFile image mode=L size=26x16 at 0x7F8ED6DAA380>"
            ],
            "image/png": "[encoded data removed]"
          },
          "metadata": {}
        }
      ]
    },
    {
      "cell_type": "code",
      "source": [
        "decoded_text=text_to_image.decode(encoded_image_path)\n",
        "decoded_text"
      ],
      "metadata": {
        "colab": {
          "base_uri": "https://localhost:8080/",
          "height": 105
        },
        "id": "arjxNJRfiSZD",
        "outputId": "05caa7de-6882-4174-93f5-99ede9f51195"
      },
      "execution_count": null,
      "outputs": [
        {
          "output_type": "execute_result",
          "data": {
            "text/plain": [
              "\"Latin was the everyday language of the Romans and the basis of \\nRomance languages. Studying Latin will make it easy to learn any such \\nlanguage. As you learn this classical language, you'll connect with \\nJulius Caesar and many other famous Romans. Furthermore, the study of \\nLatin will develop a firm linguistic foundation, bridging the gap between \\nyou and some of the greatest writers, scientists, and thinkers.I\""
            ],
            "application/vnd.google.colaboratory.intrinsic+json": {
              "type": "string"
            }
          },
          "metadata": {},
          "execution_count": 22
        }
      ]
    }
  ]
}