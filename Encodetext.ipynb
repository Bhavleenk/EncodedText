{
  "nbformat": 4,
  "nbformat_minor": 0,
  "metadata": {
    "colab": {
      "provenance": [],
      "authorship_tag": "ABX9TyM0DBU/H/WwlPNL6pqwAXTN",
      "include_colab_link": true
    },
    "kernelspec": {
      "name": "python3",
      "display_name": "Python 3"
    },
    "language_info": {
      "name": "python"
    }
  },
  "cells": [
    {
      "cell_type": "markdown",
      "metadata": {
        "id": "view-in-github",
        "colab_type": "text"
      },
      "source": [
        "<a href=\"https://colab.research.google.com/github/Bhavleenk/EncodedText/blob/main/Encodetext.ipynb\" target=\"_parent\"><img src=\"https://colab.research.google.com/assets/colab-badge.svg\" alt=\"Open In Colab\"/></a>"
      ]
    },
    {
      "cell_type": "code",
      "execution_count": null,
      "metadata": {
        "colab": {
          "base_uri": "https://localhost:8080/"
        },
        "id": "56ewFKvFfsS2",
        "outputId": "c61018ba-5dee-4522-ce4d-87b4a4dfd8ec"
      },
      "outputs": [
        {
          "output_type": "stream",
          "name": "stdout",
          "text": [
            "Looking in indexes: https://pypi.org/simple, https://us-python.pkg.dev/colab-wheels/public/simple/\n",
            "Requirement already satisfied: text-to-image in /usr/local/lib/python3.10/dist-packages (0.0.5)\n",
            "Requirement already satisfied: Pillow in /usr/local/lib/python3.10/dist-packages (from text-to-image) (8.4.0)\n",
            "Looking in indexes: https://pypi.org/simple, https://us-python.pkg.dev/colab-wheels/public/simple/\n",
            "Requirement already satisfied: pillow in /usr/local/lib/python3.10/dist-packages (8.4.0)\n"
          ]
        }
      ],
      "source": [
        "!pip install text-to-image\n",
        "!pip install pillow"
      ]
    },
    {
      "cell_type": "code",
      "source": [],
      "metadata": {
        "id": "rS8GLe1nsAoa"
      },
      "execution_count": null,
      "outputs": []
    },
    {
      "cell_type": "code",
      "source": [
        "import text_to_image\n",
        "import PIL\n",
        "text=\"\"\"Latin was the everyday language of the Romans and the basis of\n",
        "Romance languages. Studying Latin will make it easy to learn any such\n",
        "language. As you learn this classical language, you'll connect with\n",
        "Julius Caesar and many other famous Romans. Furthermore, the study of\n",
        "Latin will develop a firm linguistic foundation, bridging the gap between\n",
        "you and some of the greatest writers, scientists, and thinkers.I\"\"\"\n",
        "encoded_image_path = text_to_image.encode(text, \"image.png\")\n"
      ],
      "metadata": {
        "id": "UxfnLqAIf4F6"
      },
      "execution_count": null,
      "outputs": []
    },
    {
      "cell_type": "code",
      "source": [
        "im = PIL.Image.open(encoded_image_path)\n",
        "im.show()"
      ],
      "metadata": {
        "colab": {
          "base_uri": "https://localhost:8080/",
          "height": 34
        },
        "id": "yBcCQka9gWDu",
        "outputId": "0c3c4010-8d7d-494c-9d13-3c0cd98fd4f6"
      },
      "execution_count": null,
      "outputs": [
        {
          "output_type": "display_data",
          "data": {
            "text/plain": [
              "<PIL.PngImagePlugin.PngImageFile image mode=L size=26x16 at 0x7F8ED6DAA380>"
            ],
            "image/png": "[encoded data removed]"
          },
          "metadata": {}
        }
      ]
    },
    {
      "cell_type": "code",
      "source": [
        "decoded_text=text_to_image.decode(encoded_image_path)\n",
        "decoded_text"
      ],
      "metadata": {
        "colab": {
          "base_uri": "https://localhost:8080/",
          "height": 105
        },
        "id": "arjxNJRfiSZD",
        "outputId": "05caa7de-6882-4174-93f5-99ede9f51195"
      },
      "execution_count": null,
      "outputs": [
        {
          "output_type": "execute_result",
          "data": {
            "text/plain": [
              "\"Latin was the everyday language of the Romans and the basis of \\nRomance languages. Studying Latin will make it easy to learn any such \\nlanguage. As you learn this classical language, you'll connect with \\nJulius Caesar and many other famous Romans. Furthermore, the study of \\nLatin will develop a firm linguistic foundation, bridging the gap between \\nyou and some of the greatest writers, scientists, and thinkers.I\""
            ],
            "application/vnd.google.colaboratory.intrinsic+json": {
              "type": "string"
            }
          },
          "metadata": {},
          "execution_count": 22
        }
      ]
    },
    {
      "cell_type": "markdown",
      "source": [
        "# **Encoding from File**"
      ],
      "metadata": {
        "id": "-AzDen0BsXz0"
      }
    },
    {
      "cell_type": "code",
      "source": [
        "!wget https://raw.githubusercontent.com/Bhavleenk/EncodedText/main/input/file.txt"
      ],
      "metadata": {
        "colab": {
          "base_uri": "https://localhost:8080/"
        },
        "id": "Yn5O58Qtsez3",
        "outputId": "0a705c8d-e21e-42a7-8b50-08bf325c71e7"
      },
      "execution_count": 23,
      "outputs": [
        {
          "output_type": "stream",
          "name": "stdout",
          "text": [
            "--2023-06-14 06:58:21--  https://raw.githubusercontent.com/Bhavleenk/EncodedText/main/input/file.txt\n",
            "Resolving raw.githubusercontent.com (raw.githubusercontent.com)... 185.199.108.133, 185.199.111.133, 185.199.109.133, ...\n",
            "Connecting to raw.githubusercontent.com (raw.githubusercontent.com)|185.199.108.133|:443... connected.\n",
            "HTTP request sent, awaiting response... 200 OK\n",
            "Length: 1471 (1.4K) [text/plain]\n",
            "Saving to: ‘file.txt’\n",
            "\n",
            "\rfile.txt              0%[                    ]       0  --.-KB/s               \rfile.txt            100%[===================>]   1.44K  --.-KB/s    in 0s      \n",
            "\n",
            "2023-06-14 06:58:22 (25.5 MB/s) - ‘file.txt’ saved [1471/1471]\n",
            "\n"
          ]
        }
      ]
    },
    {
      "cell_type": "code",
      "source": [
        "encoded_file_path = text_to_image.encode_file(\"/content/file.txt\", \"output_image.png\")\n"
      ],
      "metadata": {
        "id": "O544Dep3syio"
      },
      "execution_count": 25,
      "outputs": []
    },
    {
      "cell_type": "code",
      "source": [
        "decoded_text=text_to_image.decode(encoded_file_path)\n",
        "decoded_text"
      ],
      "metadata": {
        "colab": {
          "base_uri": "https://localhost:8080/",
          "height": 140
        },
        "id": "py6QlNJstCeU",
        "outputId": "50f6c11a-5b93-4bb6-a6fb-f365ca216151"
      },
      "execution_count": 26,
      "outputs": [
        {
          "output_type": "execute_result",
          "data": {
            "text/plain": [
              "'Latin (lingua Lat+na [ÈljKa·a kaÈtiÐna] or Lat+num [kaÈtiÐn\\x8a\\x03]) is a classical language belonging to the Italic branch of the Indo-European languages.\\nLatin was originally a dialect spoken in Latium (also known as Lazio), the lower Tiber area around present-day Rome,[1] but through the power of the \\nRoman Republic it became the dominant language in the Italian region and subsequently throughout the Roman Empire. Even after the fall of Western Rome,\\nLatin remained the common language of international communication, science, scholarship and academia in Europe until well into the 18th century, when \\nother regional vernaculars (including its own descendants, the Romance languages) supplanted it in common academic and political usage. For most of the\\ntime it was used, it would be considered a \"dead language\" in the modern linguistic definition; that is, it lacked native speakers, despite being used \\nextensively and actively.\\n\\nLatin is a highly inflected language, with three distinct genders (masculine, feminine, and neuter), six or seven noun cases (nominative, accusative, \\ngenitive, dative, ablative, and vocative), five declensions, four verb conjugations, six tenses (present, imperfect, future, perfect, pluperfect, and \\nfuture perfect), three persons, three moods, two voices (passive and active), two or three aspects, and two numbers (singular and plural). The Latin \\nalphabet is directly derived from the Etruscan and Greek alphabets.\\n\\n'"
            ],
            "application/vnd.google.colaboratory.intrinsic+json": {
              "type": "string"
            }
          },
          "metadata": {},
          "execution_count": 26
        }
      ]
    }
  ]
}